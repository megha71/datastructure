{
  "nbformat": 4,
  "nbformat_minor": 0,
  "metadata": {
    "colab": {
      "provenance": []
    },
    "kernelspec": {
      "name": "python3",
      "display_name": "Python 3"
    },
    "language_info": {
      "name": "python"
    }
  },
  "cells": [
    {
      "cell_type": "markdown",
      "source": [
        "**Data Types and Structures Questions:**"
      ],
      "metadata": {
        "id": "0B6v81KRWnfn"
      }
    },
    {
      "cell_type": "markdown",
      "source": [
        "1. What are data structures, and why are they important?\n",
        "\n",
        "-> A data structure is a specialized way of organizing, managaing, and storing data to enable efficient access and modification. It provides a systematic approach to handling and processing data in computer science.\n",
        "\n",
        "-> Importance of data structure:\n",
        "\n",
        "\n",
        "* Efficient data management - Helps store and organize data efficiently, reducing complexity in data handlling.\n",
        "\n",
        "* Optimized performance - Improves the speed of operations such as searching, sorting, and updating data.\n",
        "\n",
        "\n",
        "* Memory utilization - Helps in using memory efficiently by structuring data appropriately.\n",
        "\n",
        "* Scalability - Supports large-scale applications by ensuring data can be managed effectively.\n",
        "\n",
        "\n",
        "* Real-world applications - used in databases, operating systems, artificial intelligence, networking, and more.\n",
        "\n",
        "\n",
        "\n",
        "\n",
        "\n",
        "\n",
        "\n"
      ],
      "metadata": {
        "id": "8tAlVhZj8jH9"
      }
    },
    {
      "cell_type": "markdown",
      "source": [
        "2. Explain the difference between mutable and immutable data types with examples.\n",
        "\n",
        "-> In programming, especially in python, mutability determines whether and object's value can be changed after its creation.\n",
        "\n",
        "\n",
        "* Mutable data types:\n",
        "\n",
        "-> Mutable objects can be modified after they are created. When you make changes to a mutable object, they happen in place, meaing the memory address remains the same. This allows for efficient modification without creating new objects.\n",
        "\n",
        "-> Examples of mutable data types include lists, dictionaries, sets, and bytearrays.\n",
        "\n",
        "\n"
      ],
      "metadata": {
        "id": "15STgML-BYZF"
      }
    },
    {
      "cell_type": "code",
      "source": [
        "my_list = [1, 2, 3]\n",
        "my_list.append(4)\n",
        "print(my_list)"
      ],
      "metadata": {
        "colab": {
          "base_uri": "https://localhost:8080/"
        },
        "id": "4dQoskXUDJzI",
        "outputId": "ef27079b-a178-49ab-a3ee-17c2030f117a"
      },
      "execution_count": 1,
      "outputs": [
        {
          "output_type": "stream",
          "name": "stdout",
          "text": [
            "[1, 2, 3, 4]\n"
          ]
        }
      ]
    },
    {
      "cell_type": "markdown",
      "source": [
        "* Immutable data types:\n",
        "\n",
        "-> Immutable objects cannot be changed after they are created. Any modification results in a new object being creaed, rather than modifying the original one.\n",
        "\n",
        "* Example of immutable data  types include integers, floats, strings, tuples, and frozensets.\n",
        "\n",
        "\n"
      ],
      "metadata": {
        "id": "lAxo2d33DgyF"
      }
    },
    {
      "cell_type": "code",
      "execution_count": 3,
      "metadata": {
        "id": "etvgJjlvC2-6",
        "colab": {
          "base_uri": "https://localhost:8080/"
        },
        "outputId": "4b1cb28b-ecf2-4cb6-9731-4b326e0c6a6a"
      },
      "outputs": [
        {
          "output_type": "stream",
          "name": "stdout",
          "text": [
            "Hello\n",
            "Hello World\n"
          ]
        }
      ],
      "source": [
        "my_str = \"Hello\"\n",
        "new_str = my_str + \" World\"\n",
        "print(my_str)\n",
        "print(new_str)"
      ]
    },
    {
      "cell_type": "markdown",
      "source": [
        "3. What are the main differences between lists and tuples in Python?\n",
        "\n",
        "-> Difference between lists and tuples:\n",
        "\n",
        "* Mutability:\n",
        "\n",
        "-> Lists are mutable - You can modify, add, or remove elements after creation.\n",
        "\n",
        "-> Tuples are immutable - Once created, their elements cannot be changed.\n",
        "\n",
        "* Performance:\n",
        "\n",
        "-> Tuples are faster than lists because they are stored in a more optimized way.\n",
        "\n",
        "-> Lists are slower due to their dynamic nature (modifications require more processing).\n",
        "\n",
        "\n",
        "* Memory usage:\n",
        "\n",
        "-> Tuples comsume less memory than lists since they are fixed in size.\n",
        "\n",
        "-> Lists take more memory because they are dynamic and allow modifications.\n",
        "\n",
        "* Method available:\n",
        "\n",
        "-> Lists have more built-in methods (ex, .append(), .remove(), sort()).\n",
        "\n",
        "-> Tuples have fewer methods, mainly .count() and .index().\n",
        "\n",
        "\n",
        "* When to use lists vs tuples:\n",
        "\n",
        "-> Use lists when you need to modify, add, or remove elements dynamically.\n",
        "\n",
        "-> Use tuples when you need fixed data that should not change (ex, coordinates, databse records).\n",
        "\n",
        "\n",
        "\n"
      ],
      "metadata": {
        "id": "ezGtk2e9ErBg"
      }
    },
    {
      "cell_type": "markdown",
      "source": [
        "4. Describe how dictionaries store data.\n",
        "\n",
        "-> Dictinoaries in python store data using a hash table. They store key-value pairs, where eachkey is hashed to determine its location in memory.\n",
        "\n",
        "\n",
        "* Hashing Mechanism - Each key is passed through a hash function, generating a unique integer (hash value). This hash value determines the memory location of the key-value pair.\n",
        "\n",
        "* Fast lookup - Because of hashing, retrieving a value using a key takes constant time0(1) on average.\n",
        "\n",
        "\n",
        "* Collision Hnadling - If two keys generate teh same hash (collision), Python resolves it using probing or hash table resizing.\n",
        "\n",
        "\n",
        "* Key requirements - Keys must be immutable (ex, strings, numbers, tuples) and unique, while values can be mutable.\n",
        "\n",
        "\n",
        "* Dynamic Resizing - Python automatically increases teh dictionary size when needed to maintain efficiency.\n",
        "\n",
        "\n",
        "\n",
        "\n",
        "\n",
        "\n",
        "\n"
      ],
      "metadata": {
        "id": "BMQvWhSYKl-v"
      }
    },
    {
      "cell_type": "markdown",
      "source": [
        "5. Why might you use a set instead of a list in Python?\n",
        "\n",
        "-> A set is an unordered collection of unique elements, while a list allows duplicates and maintains order. You might choose a set over a list in the following cases:\n",
        "\n",
        "\n",
        "* To ensure uniqueness: Sets automatically remove duplicate values, whereas lists allow duplicates. If you need to store only unique items, a set is the better choice.\n",
        "\n",
        "\n",
        "* Faster lookups (0(1) vs. 0(n)): Sets use hashing, allowing for 0(1) average time complexity for lookups. Lists require 0(n) time for searching, as they check each element sequentially.\n",
        "\n",
        "\n",
        "* Set operations (Union, Intersection, Difference): Sets support efficient mathematical operations like union, intersection, and difference, which are not as straighforward with lists.\n",
        "\n",
        "* Memory efficiency: Sets are generally more memory-efficients than lists when storing large numbers of unique items.\n",
        "\n"
      ],
      "metadata": {
        "id": "T4_DAloWQMm-"
      }
    },
    {
      "cell_type": "markdown",
      "source": [
        "6. What is a string in Python, and how is it different from a list?\n",
        "\n",
        "-> A string in python is a sequence of characters enclosed in single (' '), double (\" \"), or triple quotes (''' ''' or \"\"\" \"\"\"), Strings are immutable, meaning they cannot be changed after creation.\n",
        "\n",
        "-> How is a string different from a list?\n",
        "\n",
        "\n",
        "* Mutability:\n",
        "\n",
        "string are immutable - Once created, they cannot be modified. Any modification creates a new string.\n",
        "\n",
        "Lists are mutable - You can change, add, or remove elements.\n",
        "\n",
        "\n",
        "* Element type:\n",
        "\n",
        "A string only contains characters (text).\n",
        "\n",
        "A list can hold different data types (integers, floats, strings, etc.)\n",
        "\n",
        "\n",
        "* Operations:\n",
        "\n",
        "Strings support operations like concatenation and slicing but not direct modification.\n",
        "\n",
        "Lists support modifications, appending, removing, and sorting.\n",
        "\n",
        "* Performance & Memory usage:\n",
        "\n",
        "Strings are more memory-efficient because they are stored as a continuous block in memory.\n",
        "\n",
        "Lists take more memory because they store references to objects.\n",
        "\n",
        "\n",
        "\n",
        "\n",
        "\n"
      ],
      "metadata": {
        "id": "C5s0rDvlkNNM"
      }
    },
    {
      "cell_type": "markdown",
      "source": [
        "7. How do tuples ensure data integrity in Python?\n",
        "\n",
        "-> Tuples ensure data integrity by being immutable, meaning their elements cannot be modified, added, or removed after creation. This immutability makes tuples reliable for storing fixed data.\n",
        "\n",
        "1. Preventing unintentional changes\n",
        "2. Hashability & Use as dictionary keys\n",
        "3. Faster & More efficient than lists\n",
        "4. Reliable data storage in multi-threading\n",
        "\n",
        "\n",
        "\n"
      ],
      "metadata": {
        "id": "dTTz0frardVm"
      }
    },
    {
      "cell_type": "markdown",
      "source": [
        "8. What is a hash table, and how does it relate to dictionaries in Python?\n",
        "\n",
        "-> A hash table is a data structure that stores key-value pairs using a hashing function to compute an index, making lookups, insertions, and deletions extremely fast (0(1) on average).\n",
        "\n",
        "-> How do hash tables relate to dictionaties in python?\n",
        "\n",
        "A python dictionary (dict) is an implementation of a hash table where:\n",
        "\n",
        "\n",
        "\n",
        "* Keys are hashed to determine where values are stored.\n",
        "\n",
        "* Lookups, insertions, and deletions are typically 0(1) due to direct access via the hash index.\n",
        "\n",
        "\n",
        "* Dictionaries handle collisions internally to maintaion efficiency.\n",
        "\n",
        "\n",
        "\n",
        "\n",
        "\n",
        "\n"
      ],
      "metadata": {
        "id": "i878OOpyupbA"
      }
    },
    {
      "cell_type": "markdown",
      "source": [
        "9. Can lists contain different data types in Python?\n",
        "\n",
        "-> Yes, lists in python can contain different data types because they are heterogeneous collections. A single list can store integers, floats, strings, booleans, other lists, tuples, dictionaries, and even functions.\n"
      ],
      "metadata": {
        "id": "IUaHKSoixZ8J"
      }
    },
    {
      "cell_type": "markdown",
      "source": [
        "10. Explain why strings are immutable in Python.\n",
        "\n",
        "-> Strings in python are immutable, meaning they cannot be changed after creation. Any modification creates a new string rather than altering the original one.\n",
        "\n",
        "1. Memory efficiency (String interning)\n",
        "2. Security & Data integrity\n",
        "3. Hashability & Data integrity\n",
        "4. Safer multi-threading\n"
      ],
      "metadata": {
        "id": "CdFoXF7EysUX"
      }
    },
    {
      "cell_type": "markdown",
      "source": [
        "11. What advantages do dictionaries offer over lists for certain tasks?\n",
        "\n",
        "-> Dictionaries (dict) offer several advantages over lists (list) in specific scenarios, particularly when working with kwy-value pairs and requiring fast lookups.\n",
        "\n",
        "1. Faster lookups (0(1) vs. 0(n))\n",
        "2. Key-value pair storage\n",
        "3. No need for manual indexing\n",
        "4. Prevents duplicates with unique keys\n",
        "5. More efficient data updates\n",
        "6. Useful for structured data (JSON & APIs)\n"
      ],
      "metadata": {
        "id": "w8x34A032Jcg"
      }
    },
    {
      "cell_type": "markdown",
      "source": [
        "12. Describe a scenario where using a tuple would be preferable over a list.\n",
        "\n",
        "-> Scenario: Storing database records (Immutable data)\n",
        "\n",
        "Imagine you are working with a database system that stores employee details. Each employee record includes ID, name, and department. Since an employee's ID and name should not change, a tuple is the best choice.\n",
        "\n"
      ],
      "metadata": {
        "id": "J6I1CpKj4KF2"
      }
    },
    {
      "cell_type": "markdown",
      "source": [
        "13. How do sets handle duplicate values in Python?\n",
        "\n",
        "-> In python, sets automatically remove duplicate values, ensuring that all elements are unique. If you add duplicate items, the set keeps only one instance of each unique value.\n",
        "\n",
        "\n",
        "* Example:\n",
        "\n",
        "\n",
        "\n",
        "\n"
      ],
      "metadata": {
        "id": "6QTAzbST5Ows"
      }
    },
    {
      "cell_type": "code",
      "source": [
        "my_set = {1, 2, 2, 3, 4, 4, 5}\n",
        "print(my_set)"
      ],
      "metadata": {
        "colab": {
          "base_uri": "https://localhost:8080/"
        },
        "id": "w8vo4rNREj3P",
        "outputId": "d86cc81d-334b-4483-d59c-87e88182b99d"
      },
      "execution_count": 1,
      "outputs": [
        {
          "output_type": "stream",
          "name": "stdout",
          "text": [
            "{1, 2, 3, 4, 5}\n"
          ]
        }
      ]
    },
    {
      "cell_type": "markdown",
      "source": [
        "14. How does the “in” keyword work differently for lists and dictionaries?\n",
        "\n",
        "-> The in keyword is used to check if an element exists in a list or dictionary, but it work differently for each.\n",
        "\n",
        "1. in with lists:\n",
        "\n",
        "* When used with a lists, python searches through each element sequentially.\n",
        "* Time complexity: 0(n) ( slower for large lists).\n",
        "\n",
        "2. in with dictionaries:\n",
        "\n",
        "\n",
        "* When used with a dictionary, in checks for the key, not the value.\n",
        "* Time complexity: 0(1) (constant time lookup).\n",
        "\n",
        "3. Checking values in a dictionary:\n",
        "\n",
        "\n",
        "* If you want to check for a value in a dictionary, you must use .values(), which checking values in a dictionary.\n",
        "\n",
        "\n",
        "\n"
      ],
      "metadata": {
        "id": "zSviMeC16VyU"
      }
    },
    {
      "cell_type": "markdown",
      "source": [
        "15. Can you modify the elements of a tuple? Explain why or why not?\n",
        "\n",
        "-> No, you cannot modify the elements of a tuple in python.\n",
        "\n",
        "\n",
        "* Why are tuples immutable?\n",
        "\n",
        "* Tuples are immutable, meaning their elements cannot be changed, added, or removed after creation.\n",
        "\n",
        "* This is because tuples are stored in memory as fixed structures, unlike lists, which allow modifications.\n",
        "\n",
        "-> Mutable elements inside a tuple:  While tuples themselves cannot be changed, they can contain mutable objects (e.g., lists).\n",
        "\n",
        "\n",
        "-> If a tuple holds a list, the list itself can be modified.\n",
        "\n",
        "\n",
        "\n",
        "\n",
        "\n"
      ],
      "metadata": {
        "id": "bIfOpS4Y9k7R"
      }
    },
    {
      "cell_type": "markdown",
      "source": [
        "16. What is a nested dictionary, and give an example of its use case?\n",
        "\n",
        "-> A nested dictionary is a dictionary that contains one or more dictionaries as values. It allows data to be structures in multiple layers, making it ideal for storing complex hierarchical data.\n",
        "\n",
        "\n",
        "* Example:\n",
        "\n"
      ],
      "metadata": {
        "id": "nR-IEz8zAA2J"
      }
    },
    {
      "cell_type": "code",
      "source": [
        "students = {\n",
        "    \"megha\": {\"age\": 22, \"major\": \"Computer Science\", \"grades\": {\"math\": 70, \"science\": 92}},\n",
        "    \"dimple\" : {\"age\": 21, \"major\": \"Engineering\", \"gardes\": {\"math\": 90, \"science\": 75}}\n",
        "}\n",
        "\n",
        "print(students[\"dimple\"][\"major\"])\n",
        "print(students[\"megha\"][\"grades\"][\"science\"])"
      ],
      "metadata": {
        "colab": {
          "base_uri": "https://localhost:8080/"
        },
        "id": "W_dHj_4l6QQQ",
        "outputId": "a704fdf6-6c23-40a8-d0f2-a7b033bb68e3"
      },
      "execution_count": 2,
      "outputs": [
        {
          "output_type": "stream",
          "name": "stdout",
          "text": [
            "Engineering\n",
            "92\n"
          ]
        }
      ]
    },
    {
      "cell_type": "markdown",
      "source": [
        "17. Describe the time complexity of accessing elements in a dictionary.\n",
        "-> In python, accessing elements in a dictionary is highly efficient because dictionaries use a hash table for storage.\n",
        "\n",
        "\n",
        "* Average Case (0(1)) - Constant time:\n",
        "\n",
        "-> Dictionary lookups (dict[key]) take 0(1) time in the average case.\n",
        "\n",
        "-> This is because python calculates a hash value for the key and retrieves the value directly.\n",
        "\n",
        "\n",
        "* Worst case (O(n)) - Linear time:\n",
        "\n",
        "-> In rare cases, dictionary access can take O(n) time due to hash collisions (when multiple keys share the same hash.)\n",
        "\n",
        "-> If many collisions occur, python resolves them by storing values in a linked list, requiring a linear search.\n",
        "\n",
        "\n",
        "\n",
        "\n",
        "\n"
      ],
      "metadata": {
        "id": "Ohva9BpXa4R-"
      }
    },
    {
      "cell_type": "markdown",
      "source": [
        "18. In what situations are lists preferred over dictionaries?\n",
        "\n",
        "-> While dictionaries are great for fast lookups using keys, lists are preferred in scenarios where:\n",
        "\n",
        "* Ordered data is needed:\n",
        "\n",
        "-> Lists maintain order, while dictionaries (before python 3.7) did not.\n",
        "\n",
        "-> If order matters (e.g, a queue, a playlist, or a sequence of operations), use a list.\n",
        "\n",
        "* Sequential access is required:\n",
        "\n",
        "-> Lists allow easy iterating through elements in order, making them ideal for loops.\n",
        "\n",
        "-> Dictionaries require extra work (.keys() or .values()) to iterate over elements.\n",
        "\n",
        "* When only values matter (No need for keys):\n",
        "\n",
        "-> If data does not need unique identifiers (keys), lists simplify storage.\n",
        "\n",
        "-> A dictionary would be overkill if keys are not necessary.\n",
        "\n",
        "\n",
        "* When memory efficiency is important:\n",
        "\n",
        "-> Lists are more memory-efficient than dictionaries since dictionaries store hash values along with keys and values.\n",
        "\n",
        "* When using index-based access:\n",
        "\n",
        "-> Lists allow access using integer indexes, while dictionaries require key lookups.\n",
        "\n",
        "-> If position-based retrieval is needed, a list is more intuitive.\n",
        "\n",
        "\n",
        "\n",
        "\n",
        "\n",
        "\n",
        "\n",
        "\n",
        "\n"
      ],
      "metadata": {
        "id": "qmv6Ehl1gAcO"
      }
    },
    {
      "cell_type": "markdown",
      "source": [
        "19. Why are dictionaries considered unordered, and how does that affect data retrieval?\n",
        "\n",
        "-> Dictionaries in python prior to version 3.7 were considered unordered because they used a hash table to store key-value pairs. This meant:\n",
        "\n",
        "-> The order of items was not guaranteed when iterating.\n",
        "\n",
        "-> The arrangement of elements depended on the interbal hash function rather than insertion order.\n",
        "\n",
        "How Does This Affect Data Retrieval?\n",
        "\n",
        "\n",
        "* No guarnteed order: Items could appear in a different order when accessed, making ordered operations unpredictable.\n",
        "\n",
        "* Fast lookups instead of sequential access: Dictionaries use O(1) time complexity for lookups, unlike lists (O(n)). However, you cannot access elements by index like in a list.\n",
        "Dictionaries use O(1) time complexity for lookups, unlike lists (O(n)).\n",
        "However, you cannot access elements by index like in a list.\n",
        "\n",
        "\n"
      ],
      "metadata": {
        "id": "Mt0MN5oGjN95"
      }
    },
    {
      "cell_type": "markdown",
      "source": [
        "20. Explain the difference between a list and a dictionary in terms of data retrieval.\n",
        "\n",
        "->\n",
        "\n",
        "* Data retrieval in lists:\n",
        "Index-based retrrival (O(1))\n",
        "\n",
        "-> Lists store elements sequentially and allow retrieval using integer indices.\n",
        "\n",
        "\n",
        "* Example:\n",
        "\n",
        "\n",
        "\n",
        "\n",
        "\n",
        "\n",
        "\n"
      ],
      "metadata": {
        "id": "oyg08OcOvbw9"
      }
    },
    {
      "cell_type": "code",
      "source": [
        "my_list = [\"apple\", \"cherry\", \"banana\"]\n",
        "print(my_list[1])"
      ],
      "metadata": {
        "colab": {
          "base_uri": "https://localhost:8080/"
        },
        "id": "ASHsB66_akDL",
        "outputId": "0eeaad2e-318a-4485-94ec-ea8b72bfd9f9"
      },
      "execution_count": 3,
      "outputs": [
        {
          "output_type": "stream",
          "name": "stdout",
          "text": [
            "cherry\n"
          ]
        }
      ]
    },
    {
      "cell_type": "markdown",
      "source": [
        "* Data retrieval in dictionaries:\n",
        "Key-Based retrieval (O(1))\n",
        "\n",
        "-> Dictionaries store key-value pairs, allowing fast retrieval using keys.\n",
        "\n",
        "\n",
        "\n",
        "* Example:\n",
        "\n",
        "\n"
      ],
      "metadata": {
        "id": "oBoEGlLXxFgt"
      }
    },
    {
      "cell_type": "code",
      "source": [
        "my_dict = {\"apple\": 10, \"cherry\": 20, \"banana\": 30}\n",
        "print(my_dict[\"cherry\"])"
      ],
      "metadata": {
        "colab": {
          "base_uri": "https://localhost:8080/"
        },
        "id": "qfelhGjbxn6s",
        "outputId": "49516bd9-cb21-4141-d3d0-71536b403348"
      },
      "execution_count": 4,
      "outputs": [
        {
          "output_type": "stream",
          "name": "stdout",
          "text": [
            "20\n"
          ]
        }
      ]
    },
    {
      "cell_type": "markdown",
      "source": [
        "**Practical Questions:**"
      ],
      "metadata": {
        "id": "Wm7OjNAnWXd_"
      }
    },
    {
      "cell_type": "markdown",
      "source": [
        "1. Write a code to create a string with your name and print it."
      ],
      "metadata": {
        "id": "e7tC-a6oWfAi"
      }
    },
    {
      "cell_type": "code",
      "source": [
        "my_name = \"Megha\"\n",
        "print(my_name)"
      ],
      "metadata": {
        "colab": {
          "base_uri": "https://localhost:8080/"
        },
        "id": "yIexZ2OYWwd4",
        "outputId": "c02d8eba-6267-4b21-c37e-b78f6e32db64"
      },
      "execution_count": 1,
      "outputs": [
        {
          "output_type": "stream",
          "name": "stdout",
          "text": [
            "Megha\n"
          ]
        }
      ]
    },
    {
      "cell_type": "markdown",
      "source": [
        "2.  Write a code to find the length of the string \"Hello World\"."
      ],
      "metadata": {
        "id": "LKuT7a6ZW4mx"
      }
    },
    {
      "cell_type": "code",
      "source": [
        "text = \"Hello World\"\n",
        "print(len(text))"
      ],
      "metadata": {
        "colab": {
          "base_uri": "https://localhost:8080/"
        },
        "id": "qfe9bPz4W2ij",
        "outputId": "15179aa1-4a2c-426d-f0ba-0a0a756d3729"
      },
      "execution_count": 2,
      "outputs": [
        {
          "output_type": "stream",
          "name": "stdout",
          "text": [
            "11\n"
          ]
        }
      ]
    },
    {
      "cell_type": "markdown",
      "source": [
        "3. Write a code to slice the first 3 characters from the string \"Python Programming\"."
      ],
      "metadata": {
        "id": "_BxhFNpeXYi8"
      }
    },
    {
      "cell_type": "code",
      "source": [
        "text = \"Python Programming\"\n",
        "first_three = text[:3]\n",
        "print(first_three)"
      ],
      "metadata": {
        "colab": {
          "base_uri": "https://localhost:8080/"
        },
        "id": "blG36MjsXVOV",
        "outputId": "caeebce8-5526-4a67-870a-d0f3a6969093"
      },
      "execution_count": 3,
      "outputs": [
        {
          "output_type": "stream",
          "name": "stdout",
          "text": [
            "Pyt\n"
          ]
        }
      ]
    },
    {
      "cell_type": "markdown",
      "source": [
        "4. Write a code to convert the string \"hello\" to uppercase.\n"
      ],
      "metadata": {
        "id": "S0G-nzlJYATL"
      }
    },
    {
      "cell_type": "code",
      "source": [
        "text = \"hello\"\n",
        "uppercase_text = text.upper()\n",
        "print(uppercase_text)"
      ],
      "metadata": {
        "colab": {
          "base_uri": "https://localhost:8080/"
        },
        "id": "Iy9BJmx2X-6i",
        "outputId": "f5de36ff-181a-48b8-bc5d-616f9fd9b6d7"
      },
      "execution_count": 4,
      "outputs": [
        {
          "output_type": "stream",
          "name": "stdout",
          "text": [
            "HELLO\n"
          ]
        }
      ]
    },
    {
      "cell_type": "markdown",
      "source": [
        "5. Write a code to replace the word \"apple\" with \"orange\" in the string \"I like apple\"."
      ],
      "metadata": {
        "id": "U6GaDu3_YhSu"
      }
    },
    {
      "cell_type": "code",
      "source": [
        "text = \"I like apple\"\n",
        "new_text = text.replace(\"apple\", \"orange\")\n",
        "print(new_text)"
      ],
      "metadata": {
        "colab": {
          "base_uri": "https://localhost:8080/"
        },
        "id": "VIDJXsVBYezf",
        "outputId": "05426d2a-1625-42ad-b1e3-241558fbca0c"
      },
      "execution_count": 6,
      "outputs": [
        {
          "output_type": "stream",
          "name": "stdout",
          "text": [
            "I like orange\n"
          ]
        }
      ]
    },
    {
      "cell_type": "markdown",
      "source": [
        "6. Write a code to create a list with numbers 1 to 5 and print it.\n"
      ],
      "metadata": {
        "id": "ccalT5lcZiV3"
      }
    },
    {
      "cell_type": "code",
      "source": [
        "numbers = [1, 2, 3, 4, 5]\n",
        "print(numbers)"
      ],
      "metadata": {
        "colab": {
          "base_uri": "https://localhost:8080/"
        },
        "id": "bn6QQ5N2Zd8l",
        "outputId": "308cc1cf-9f1e-43d7-efd4-e37cf322c4ef"
      },
      "execution_count": 7,
      "outputs": [
        {
          "output_type": "stream",
          "name": "stdout",
          "text": [
            "[1, 2, 3, 4, 5]\n"
          ]
        }
      ]
    },
    {
      "cell_type": "markdown",
      "source": [
        "7. Write a code to append the number 10 to the list [1, 2, 3, 4]."
      ],
      "metadata": {
        "id": "uO43fWk5Z55I"
      }
    },
    {
      "cell_type": "code",
      "source": [
        "numbers = [1, 2, 3, 4]\n",
        "numbers.append(10)\n",
        "print(numbers)"
      ],
      "metadata": {
        "colab": {
          "base_uri": "https://localhost:8080/"
        },
        "id": "1eM6VCDaZ4vx",
        "outputId": "432fd885-92da-4d06-eb0a-9c177fb2a6d4"
      },
      "execution_count": 8,
      "outputs": [
        {
          "output_type": "stream",
          "name": "stdout",
          "text": [
            "[1, 2, 3, 4, 10]\n"
          ]
        }
      ]
    },
    {
      "cell_type": "markdown",
      "source": [
        "8. Write a code to remove the number 3 from the list [1, 2, 3, 4, 5]."
      ],
      "metadata": {
        "id": "2Tvyg0P2aaxE"
      }
    },
    {
      "cell_type": "code",
      "source": [
        "numbers = [1, 2, 3, 4, 5]\n",
        "numbers.remove(3)\n",
        "print(numbers)"
      ],
      "metadata": {
        "colab": {
          "base_uri": "https://localhost:8080/"
        },
        "id": "LVBbI38_aUz_",
        "outputId": "965cd1d3-ab57-458f-cf73-67f3af50d2ea"
      },
      "execution_count": 9,
      "outputs": [
        {
          "output_type": "stream",
          "name": "stdout",
          "text": [
            "[1, 2, 4, 5]\n"
          ]
        }
      ]
    },
    {
      "cell_type": "markdown",
      "source": [
        "9. Write a code to access the second element in the list ['a', 'b', 'c', 'd']."
      ],
      "metadata": {
        "id": "mYACZzUFa0qq"
      }
    },
    {
      "cell_type": "code",
      "source": [
        "letters = ['a', 'b', 'c', 'd']\n",
        "second_element = letters[1]\n",
        "print(second_element)"
      ],
      "metadata": {
        "colab": {
          "base_uri": "https://localhost:8080/"
        },
        "id": "azeuN8KKazYE",
        "outputId": "a68de358-c4dc-403c-9c64-b9e7542bb12c"
      },
      "execution_count": 10,
      "outputs": [
        {
          "output_type": "stream",
          "name": "stdout",
          "text": [
            "b\n"
          ]
        }
      ]
    },
    {
      "cell_type": "markdown",
      "source": [
        "10. Write a code to reverse the list [10, 20, 30, 40, 50]."
      ],
      "metadata": {
        "id": "fLGYpXYnbo1E"
      }
    },
    {
      "cell_type": "code",
      "source": [
        "numbers = [10, 20, 30, 40, 50]\n",
        "numbers.reverse()\n",
        "print(numbers)"
      ],
      "metadata": {
        "colab": {
          "base_uri": "https://localhost:8080/"
        },
        "id": "7OUHgzyrbmpX",
        "outputId": "b127c8f5-d5aa-4355-9add-c0482dfa6930"
      },
      "execution_count": 11,
      "outputs": [
        {
          "output_type": "stream",
          "name": "stdout",
          "text": [
            "[50, 40, 30, 20, 10]\n"
          ]
        }
      ]
    },
    {
      "cell_type": "markdown",
      "source": [
        "11. Write a code to create a tuple with the elements 100, 200, 300 and print it."
      ],
      "metadata": {
        "id": "t3YF3j3vcFfv"
      }
    },
    {
      "cell_type": "code",
      "source": [
        "numbers = (100, 200, 300)\n",
        "print(numbers)"
      ],
      "metadata": {
        "colab": {
          "base_uri": "https://localhost:8080/"
        },
        "id": "B8g9N5tmcEGt",
        "outputId": "039dfe28-9cea-4650-f930-d66ac7175cba"
      },
      "execution_count": 12,
      "outputs": [
        {
          "output_type": "stream",
          "name": "stdout",
          "text": [
            "(100, 200, 300)\n"
          ]
        }
      ]
    },
    {
      "cell_type": "markdown",
      "source": [
        "12. Write a code to access the second-to-last element of the tuple ('red', 'green', 'blue', 'yellow')."
      ],
      "metadata": {
        "id": "muds7QL2cdIB"
      }
    },
    {
      "cell_type": "code",
      "source": [
        "colors = (\"red\", \"green\", \"blue\", \"yellow\")\n",
        "second_last = colors[-2]\n",
        "print(second_last)"
      ],
      "metadata": {
        "colab": {
          "base_uri": "https://localhost:8080/"
        },
        "id": "MMvRcZN0cYkF",
        "outputId": "e09195a7-077e-436a-eabb-d857d010b0fa"
      },
      "execution_count": 13,
      "outputs": [
        {
          "output_type": "stream",
          "name": "stdout",
          "text": [
            "blue\n"
          ]
        }
      ]
    },
    {
      "cell_type": "markdown",
      "source": [
        "13. Write a code to find the minimum number in the tuple (10, 20, 5, 15)."
      ],
      "metadata": {
        "id": "JwV3DcmUeK_O"
      }
    },
    {
      "cell_type": "code",
      "source": [
        "numbers = (10, 20, 5, 15)\n",
        "min_number = min(numbers)\n",
        "print(min_number)"
      ],
      "metadata": {
        "colab": {
          "base_uri": "https://localhost:8080/"
        },
        "id": "Pq4Ts7BxeB4y",
        "outputId": "544a2d87-374a-4b06-885a-bafb167b0187"
      },
      "execution_count": 14,
      "outputs": [
        {
          "output_type": "stream",
          "name": "stdout",
          "text": [
            "5\n"
          ]
        }
      ]
    },
    {
      "cell_type": "markdown",
      "source": [
        "14. Write a code to find the index of the element \"cat\" in the tuple ('dog', 'cat', 'rabbit')."
      ],
      "metadata": {
        "id": "Z0NLosxYe2MM"
      }
    },
    {
      "cell_type": "code",
      "source": [
        "animals = (\"dog\", \"cat\", \"rabbit\")\n",
        "cat_index = animals.index(\"cat\")\n",
        "print(cat_index)"
      ],
      "metadata": {
        "colab": {
          "base_uri": "https://localhost:8080/"
        },
        "id": "rjyPoy4Xe0vz",
        "outputId": "2de9c714-87a8-4453-94d0-5505b3546465"
      },
      "execution_count": 15,
      "outputs": [
        {
          "output_type": "stream",
          "name": "stdout",
          "text": [
            "1\n"
          ]
        }
      ]
    },
    {
      "cell_type": "markdown",
      "source": [
        "15. Write a code to create a tuple containing three different fruits and check if \"kiwi\" is in it."
      ],
      "metadata": {
        "id": "YjETzkxKfXg7"
      }
    },
    {
      "cell_type": "code",
      "source": [
        "fruits = (\"apple\", \"banana\", \"cherry\")\n",
        "is_kiwi_present = \"kiwi\" in fruits\n",
        "print(is_kiwi_present)"
      ],
      "metadata": {
        "colab": {
          "base_uri": "https://localhost:8080/"
        },
        "id": "tNvQAYjBfWY2",
        "outputId": "f8317be5-fc43-4952-92f6-4e352557bfeb"
      },
      "execution_count": 16,
      "outputs": [
        {
          "output_type": "stream",
          "name": "stdout",
          "text": [
            "False\n"
          ]
        }
      ]
    },
    {
      "cell_type": "markdown",
      "source": [
        "16. Write a code to create a set with the elements 'a', 'b', 'c' and print it."
      ],
      "metadata": {
        "id": "8oHPDrwZf9Rv"
      }
    },
    {
      "cell_type": "code",
      "source": [
        "my_set = (\"a\", \"b\", \"c\")\n",
        "print(my_set)"
      ],
      "metadata": {
        "colab": {
          "base_uri": "https://localhost:8080/"
        },
        "id": "-ebWjn4Qf3pU",
        "outputId": "df63cd9c-9552-40b4-d0d3-142a89b311ab"
      },
      "execution_count": 17,
      "outputs": [
        {
          "output_type": "stream",
          "name": "stdout",
          "text": [
            "('a', 'b', 'c')\n"
          ]
        }
      ]
    },
    {
      "cell_type": "markdown",
      "source": [
        "17. Write a code to clear all elements from the set {1, 2, 3, 4, 5}."
      ],
      "metadata": {
        "id": "nVQxslgogTvd"
      }
    },
    {
      "cell_type": "code",
      "source": [
        "numbers = {1, 2, 3, 4, 5}\n",
        "numbers.clear()\n",
        "print(numbers)"
      ],
      "metadata": {
        "colab": {
          "base_uri": "https://localhost:8080/"
        },
        "id": "2wiKVSoHgNAA",
        "outputId": "b51b13d9-1468-4c16-f3fa-d9de3e78b98d"
      },
      "execution_count": 18,
      "outputs": [
        {
          "output_type": "stream",
          "name": "stdout",
          "text": [
            "set()\n"
          ]
        }
      ]
    },
    {
      "cell_type": "markdown",
      "source": [
        "18. Write a code to remove the element 4 from the set {1, 2, 3, 4}."
      ],
      "metadata": {
        "id": "9UIRbMPcgnKT"
      }
    },
    {
      "cell_type": "code",
      "source": [
        "numbers = {1, 2, 3, 4}\n",
        "numbers.remove(4)\n",
        "print(numbers)"
      ],
      "metadata": {
        "colab": {
          "base_uri": "https://localhost:8080/"
        },
        "id": "pAM0rWlDgiXu",
        "outputId": "cc7d478e-9437-418f-d2e1-5311d68ca310"
      },
      "execution_count": 24,
      "outputs": [
        {
          "output_type": "stream",
          "name": "stdout",
          "text": [
            "{1, 2, 3}\n"
          ]
        }
      ]
    },
    {
      "cell_type": "markdown",
      "source": [
        "19. Write a code to find the union of two sets {1, 2, 3} and {3, 4, 5}.\n"
      ],
      "metadata": {
        "id": "qEJt6E90hVNW"
      }
    },
    {
      "cell_type": "code",
      "source": [
        "set1 = {1, 2, 3}\n",
        "set2 = {3, 4, 5,}\n",
        "union_set = set1.union(set2)\n",
        "print(union_set)"
      ],
      "metadata": {
        "colab": {
          "base_uri": "https://localhost:8080/"
        },
        "id": "FViIdO6Kgzlc",
        "outputId": "73c4e76a-d20d-44e2-e221-9b8c5e09a9dc"
      },
      "execution_count": 25,
      "outputs": [
        {
          "output_type": "stream",
          "name": "stdout",
          "text": [
            "{1, 2, 3, 4, 5}\n"
          ]
        }
      ]
    },
    {
      "cell_type": "markdown",
      "source": [
        "20. Write a code to find the intersection of two sets {1, 2, 3} and {2, 3, 4}."
      ],
      "metadata": {
        "id": "X0arHF6NiaOp"
      }
    },
    {
      "cell_type": "code",
      "source": [
        "set1 = {1, 2, 3}\n",
        "set2 = {2, 3, 4}\n",
        "intersection_set = set1.intersection(set2)\n",
        "print(intersection_set)"
      ],
      "metadata": {
        "colab": {
          "base_uri": "https://localhost:8080/"
        },
        "id": "J3twPY4Qh6F8",
        "outputId": "b165161c-cd04-4171-9d2d-7a44e8314d98"
      },
      "execution_count": 26,
      "outputs": [
        {
          "output_type": "stream",
          "name": "stdout",
          "text": [
            "{2, 3}\n"
          ]
        }
      ]
    },
    {
      "cell_type": "markdown",
      "source": [
        "21. Write a code to create a dictionary with the keys \"name\", \"age\", and \"city\", and print it."
      ],
      "metadata": {
        "id": "oamnD4fXi8o1"
      }
    },
    {
      "cell_type": "code",
      "source": [
        "person = {\"name\": \"megha\", \"age\": 22, \"city\": \"new york\"}\n",
        "print(person)"
      ],
      "metadata": {
        "colab": {
          "base_uri": "https://localhost:8080/"
        },
        "id": "78yDAgZqi63q",
        "outputId": "025c6c0d-8f77-4a7f-8d15-f5c562376fd5"
      },
      "execution_count": 27,
      "outputs": [
        {
          "output_type": "stream",
          "name": "stdout",
          "text": [
            "{'name': 'megha', 'age': 22, 'city': 'new york'}\n"
          ]
        }
      ]
    },
    {
      "cell_type": "markdown",
      "source": [
        "22. Write a code to add a new key-value pair \"country\": \"USA\" to the dictionary {'name': 'John', 'age': 25}.\n",
        "\n"
      ],
      "metadata": {
        "id": "U3xLJ05skCKb"
      }
    },
    {
      "cell_type": "code",
      "source": [
        "person = {\"name\": \"John\", \"age\": 25}\n",
        "person[\"country\"] = \"USA\"\n",
        "print(person)"
      ],
      "metadata": {
        "colab": {
          "base_uri": "https://localhost:8080/"
        },
        "id": "OrkpzUJ5j72Y",
        "outputId": "70ba3e25-146b-48b8-9405-213a464fd48f"
      },
      "execution_count": 28,
      "outputs": [
        {
          "output_type": "stream",
          "name": "stdout",
          "text": [
            "{'name': 'John', 'age': 25, 'country': 'USA'}\n"
          ]
        }
      ]
    },
    {
      "cell_type": "markdown",
      "source": [
        "23. Write a code to access the value associated with the key \"name\" in the dictionary {'name': 'Alice', 'age': 30}."
      ],
      "metadata": {
        "id": "1kyOELQrko6x"
      }
    },
    {
      "cell_type": "code",
      "source": [
        "person = {\"name\": \"Alice\", \"age\": 30}\n",
        "name_value = person['name']\n",
        "print(name_value)"
      ],
      "metadata": {
        "colab": {
          "base_uri": "https://localhost:8080/"
        },
        "id": "aLhy9eiIknQS",
        "outputId": "74e99057-ab54-4b1c-ac98-7fa2b5e50fdb"
      },
      "execution_count": 29,
      "outputs": [
        {
          "output_type": "stream",
          "name": "stdout",
          "text": [
            "Alice\n"
          ]
        }
      ]
    },
    {
      "cell_type": "markdown",
      "source": [
        "24. Write a code to remove the key \"age\" from the dictionary {'name': 'Bob', 'age': 22, 'city': 'New York'}."
      ],
      "metadata": {
        "id": "iVs1soiflK0d"
      }
    },
    {
      "cell_type": "code",
      "source": [
        "person = {'name': 'Bob', 'age': 22, 'city': 'New York'}\n",
        "del person['age']\n",
        "print(person)"
      ],
      "metadata": {
        "colab": {
          "base_uri": "https://localhost:8080/"
        },
        "id": "00G9t76ilIyH",
        "outputId": "5db2aca5-4e39-4187-dc1c-adc5da31385c"
      },
      "execution_count": 37,
      "outputs": [
        {
          "output_type": "stream",
          "name": "stdout",
          "text": [
            "{'name': 'Bob', 'city': 'New York'}\n"
          ]
        }
      ]
    },
    {
      "cell_type": "markdown",
      "source": [
        "25. Write a code to check if the key \"city\" exists in the dictionary {'name': 'Alice', 'city': 'Paris'}."
      ],
      "metadata": {
        "id": "H1A-f-NPnTXL"
      }
    },
    {
      "cell_type": "code",
      "source": [
        "person = {'name': 'Alice', 'city': 'Paris'}\n",
        "key_exists = 'city' in person\n",
        "print(key_exists)\n",
        ""
      ],
      "metadata": {
        "colab": {
          "base_uri": "https://localhost:8080/"
        },
        "id": "JCjEsYGUlsFK",
        "outputId": "8244dc91-92cc-41cb-ffca-6bfc4499a349"
      },
      "execution_count": 39,
      "outputs": [
        {
          "output_type": "stream",
          "name": "stdout",
          "text": [
            "True\n"
          ]
        }
      ]
    },
    {
      "cell_type": "markdown",
      "source": [
        "26. Write a code to create a list, a tuple, and a dictionary, and print them all."
      ],
      "metadata": {
        "id": "PqbOP2D7oR77"
      }
    },
    {
      "cell_type": "code",
      "source": [
        "my_list = [1, 2, 3, 4, 5]\n",
        "my_tuple = (10, 20, 30, 40, 50)\n",
        "my_dict = {\"name\": \"Alice\", \"age\": 30, \"city\": \"New York\"}\n",
        "print(\"List:\", my_list)\n",
        "print(\"Tuple:\", my_tuple)\n",
        "print(\"Dictionary:\", my_dict)"
      ],
      "metadata": {
        "colab": {
          "base_uri": "https://localhost:8080/"
        },
        "id": "kV2TCbZvoDB6",
        "outputId": "3a90c5a0-f353-4bea-9cb5-d0803366ad06"
      },
      "execution_count": 2,
      "outputs": [
        {
          "output_type": "stream",
          "name": "stdout",
          "text": [
            "List: [1, 2, 3, 4, 5]\n",
            "Tuple: (10, 20, 30, 40, 50)\n",
            "Dictionary: {'name': 'Alice', 'age': 30, 'city': 'New York'}\n"
          ]
        }
      ]
    },
    {
      "cell_type": "markdown",
      "source": [
        "27. Write a code to create a list of 5 random numbers between 1 and 100, sort it in ascending order, and print the\n",
        "result.(replaced)."
      ],
      "metadata": {
        "id": "0sFOWQ9JTKL4"
      }
    },
    {
      "cell_type": "code",
      "source": [
        "import random\n",
        "random_numbers = random.sample(range(1, 101), 5)\n",
        "random_numbers.sort()\n",
        "print(\"Sorted List:\", random_numbers)"
      ],
      "metadata": {
        "colab": {
          "base_uri": "https://localhost:8080/"
        },
        "id": "RToR2K0QS9Ji",
        "outputId": "d2abe86f-3402-48f9-e28c-f696fe6716b5"
      },
      "execution_count": 3,
      "outputs": [
        {
          "output_type": "stream",
          "name": "stdout",
          "text": [
            "Sorted List: [6, 27, 30, 52, 65]\n"
          ]
        }
      ]
    },
    {
      "cell_type": "markdown",
      "source": [
        "28. Write a code to create a list with strings and print the element at the third index."
      ],
      "metadata": {
        "id": "dCRgYEhDUXM6"
      }
    },
    {
      "cell_type": "code",
      "source": [
        "fruits = [\"apple\", \"banana\", \"cherry\", \"orange\", \"grape\"]\n",
        "print(\"Element at index 3:\", fruits[3])"
      ],
      "metadata": {
        "colab": {
          "base_uri": "https://localhost:8080/"
        },
        "id": "qZLNgluHUPlH",
        "outputId": "77df0e27-16ee-488f-ac3f-ba24df3bf254"
      },
      "execution_count": 4,
      "outputs": [
        {
          "output_type": "stream",
          "name": "stdout",
          "text": [
            "Element at index 3: orange\n"
          ]
        }
      ]
    },
    {
      "cell_type": "markdown",
      "source": [
        "29. Write a code to combine two dictionaries into one and print the result."
      ],
      "metadata": {
        "id": "Gmj8B5HsU_Pz"
      }
    },
    {
      "cell_type": "code",
      "source": [
        "dict1 = {\"name\": \"Alice\", \"age\": 25}\n",
        "dict2 = {\"city\": \"New York\", \"country\": \"USA\"}\n",
        "dict1.update(dict2)\n",
        "print(\"Merged Dictionary\", dict1)"
      ],
      "metadata": {
        "colab": {
          "base_uri": "https://localhost:8080/"
        },
        "id": "7gbKDi9XU78X",
        "outputId": "467d9cdc-c455-42c3-89d1-0c1b50dee398"
      },
      "execution_count": 5,
      "outputs": [
        {
          "output_type": "stream",
          "name": "stdout",
          "text": [
            "Merged Dictionary {'name': 'Alice', 'age': 25, 'city': 'New York', 'country': 'USA'}\n"
          ]
        }
      ]
    },
    {
      "cell_type": "markdown",
      "source": [
        "30. Write a code to convert a list of strings into a set."
      ],
      "metadata": {
        "id": "D8K9qsb_V5j9"
      }
    },
    {
      "cell_type": "code",
      "source": [
        "fruits_list = [\"apple\", \"banana\", \"cherry\", \"apple\", \"banana\"]\n",
        "fruits_set = set(fruits_list)\n",
        "print(\"Set:\", fruits_set)"
      ],
      "metadata": {
        "colab": {
          "base_uri": "https://localhost:8080/"
        },
        "id": "G4u32eAxV3uz",
        "outputId": "6b0c464d-ea3c-4fe7-9474-f785fa59e6e8"
      },
      "execution_count": 6,
      "outputs": [
        {
          "output_type": "stream",
          "name": "stdout",
          "text": [
            "Set: {'cherry', 'apple', 'banana'}\n"
          ]
        }
      ]
    }
  ]
}